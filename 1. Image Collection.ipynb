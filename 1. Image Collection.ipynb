{
 "cells": [
  {
   "cell_type": "markdown",
   "metadata": {},
   "source": [
    "# 1. Import Dependencies"
   ]
  },
  {
   "cell_type": "code",
   "execution_count": 2,
   "metadata": {},
   "outputs": [
    {
     "name": "stdout",
     "output_type": "stream",
     "text": [
      "Requirement already satisfied: opencv-python in c:\\users\\matthew\\documents\\coding\\object dectection python\\tfodcourse\\tfod\\lib\\site-packages (4.9.0.80)\n",
      "Requirement already satisfied: numpy>=1.21.2 in c:\\users\\matthew\\documents\\coding\\object dectection python\\tfodcourse\\tfod\\lib\\site-packages (from opencv-python) (1.26.3)\n"
     ]
    }
   ],
   "source": [
    "!pip install opencv-python\n",
    "# used to access webcam"
   ]
  },
  {
   "cell_type": "code",
   "execution_count": 1,
   "metadata": {},
   "outputs": [],
   "source": [
    "# Import opencv\n",
    "import cv2 \n",
    "\n",
    "# Import uuid\n",
    "import uuid\n",
    "\n",
    "# Import Operating System\n",
    "import os\n",
    "\n",
    "# Import time\n",
    "import time"
   ]
  },
  {
   "cell_type": "markdown",
   "metadata": {},
   "source": [
    "# 2. Define Images to Collect"
   ]
  },
  {
   "cell_type": "code",
   "execution_count": 10,
   "metadata": {},
   "outputs": [],
   "source": [
    "#Project 1\n",
    "labels = ['thumbsup', 'thumbsdown', 'thankyou', 'livelong'] #classes\n",
    "number_imgs = 5 #How many images of each class, usually should be 10-20, should be more"
   ]
  },
  {
   "cell_type": "code",
   "execution_count": 9,
   "metadata": {},
   "outputs": [],
   "source": [
    "#Project 2\n",
    "labels = ['Left', 'Right', 'Up', 'Down']\n",
    "number_imgs = 5"
   ]
  },
  {
   "cell_type": "markdown",
   "metadata": {},
   "source": [
    "# 3. Setup Folders "
   ]
  },
  {
   "cell_type": "code",
   "execution_count": 4,
   "metadata": {},
   "outputs": [
    {
     "name": "stdout",
     "output_type": "stream",
     "text": [
      "Tensorflow\\workspace\\images\\collectedimages\n"
     ]
    }
   ],
   "source": [
    "IMAGES_PATH = os.path.join('Tensorflow', 'workspace', 'images', 'collectedimages') # setting up a path for images\n",
    "print(IMAGES_PATH)"
   ]
  },
  {
   "cell_type": "code",
   "execution_count": 5,
   "metadata": {},
   "outputs": [],
   "source": [
    "if not os.path.exists(IMAGES_PATH):\n",
    "    # checks operating system\n",
    "    if os.name == 'posix':\n",
    "        !mkdir -p {IMAGES_PATH}\n",
    "    if os.name == 'nt':\n",
    "         !mkdir {IMAGES_PATH}\n",
    "# create new folder for each class\n",
    "for label in labels:\n",
    "    path = os.path.join(IMAGES_PATH, label)\n",
    "    if not os.path.exists(path):\n",
    "        !mkdir {path}"
   ]
  },
  {
   "cell_type": "markdown",
   "metadata": {},
   "source": [
    "# 4. Capture Images"
   ]
  },
  {
   "cell_type": "code",
   "execution_count": 10,
   "metadata": {},
   "outputs": [
    {
     "name": "stdout",
     "output_type": "stream",
     "text": [
      "Collecting images for Left\n",
      "Collecting image 0\n",
      "Collecting image 1\n",
      "Collecting image 2\n",
      "Collecting image 3\n",
      "Collecting image 4\n",
      "Collecting images for Right\n",
      "Collecting image 0\n",
      "Collecting image 1\n",
      "Collecting image 2\n",
      "Collecting image 3\n",
      "Collecting image 4\n",
      "Collecting images for Up\n",
      "Collecting image 0\n",
      "Collecting image 1\n",
      "Collecting image 2\n",
      "Collecting image 3\n",
      "Collecting image 4\n",
      "Collecting images for Down\n",
      "Collecting image 0\n",
      "Collecting image 1\n",
      "Collecting image 2\n",
      "Collecting image 3\n",
      "Collecting image 4\n"
     ]
    }
   ],
   "source": [
    "for label in labels:\n",
    "    cap = cv2.VideoCapture(0) # connects to webcam, the device number may need to change depending on what you want to do\n",
    "    print('Collecting images for {}'.format(label))\n",
    "    time.sleep(5)\n",
    "    for imgnum in range(number_imgs):\n",
    "        print('Collecting image {}'.format(imgnum))\n",
    "        ret, frame = cap.read()\n",
    "        imgname = os.path.join(IMAGES_PATH,label,label+'.'+'{}.jpg'.format(str(uuid.uuid1()))) # given a unique identifier\n",
    "        cv2.imwrite(imgname, frame)\n",
    "        cv2.imshow('frame', frame)\n",
    "        time.sleep(2)\n",
    "\n",
    "        if cv2.waitKey(1) & 0xFF == ord('q'):\n",
    "            break\n",
    "cap.release()\n",
    "cv2.destroyAllWindows()"
   ]
  },
  {
   "cell_type": "markdown",
   "metadata": {},
   "source": [
    "# 5. Image Labelling"
   ]
  },
  {
   "cell_type": "code",
   "execution_count": 12,
   "metadata": {},
   "outputs": [
    {
     "name": "stdout",
     "output_type": "stream",
     "text": [
      "Collecting pyqt5\n",
      "  Downloading PyQt5-5.15.10-cp37-abi3-win_amd64.whl.metadata (2.2 kB)\n",
      "Collecting lxml\n",
      "  Downloading lxml-5.0.0-cp310-cp310-win_amd64.whl.metadata (6.9 kB)\n",
      "Collecting PyQt5-sip<13,>=12.13 (from pyqt5)\n",
      "  Downloading PyQt5_sip-12.13.0-cp310-cp310-win_amd64.whl.metadata (524 bytes)\n",
      "Collecting PyQt5-Qt5>=5.15.2 (from pyqt5)\n",
      "  Downloading PyQt5_Qt5-5.15.2-py3-none-win_amd64.whl (50.1 MB)\n",
      "     ---------------------------------------- 0.0/50.1 MB ? eta -:--:--\n",
      "     ---------------------------------------- 0.2/50.1 MB 6.7 MB/s eta 0:00:08\n",
      "      --------------------------------------- 1.0/50.1 MB 12.7 MB/s eta 0:00:04\n",
      "     - -------------------------------------- 2.4/50.1 MB 18.9 MB/s eta 0:00:03\n",
      "     --- ------------------------------------ 4.0/50.1 MB 23.1 MB/s eta 0:00:02\n",
      "     ---- ----------------------------------- 5.0/50.1 MB 23.0 MB/s eta 0:00:02\n",
      "     ----- ---------------------------------- 6.5/50.1 MB 24.4 MB/s eta 0:00:02\n",
      "     ------ --------------------------------- 7.9/50.1 MB 25.2 MB/s eta 0:00:02\n",
      "     ------- -------------------------------- 9.4/50.1 MB 26.1 MB/s eta 0:00:02\n",
      "     -------- ------------------------------ 11.1/50.1 MB 31.2 MB/s eta 0:00:02\n",
      "     --------- ----------------------------- 12.3/50.1 MB 31.1 MB/s eta 0:00:02\n",
      "     ---------- ---------------------------- 13.9/50.1 MB 29.8 MB/s eta 0:00:02\n",
      "     ------------ -------------------------- 15.5/50.1 MB 31.2 MB/s eta 0:00:02\n",
      "     ------------- ------------------------- 17.0/50.1 MB 32.8 MB/s eta 0:00:02\n",
      "     -------------- ------------------------ 18.7/50.1 MB 32.8 MB/s eta 0:00:01\n",
      "     --------------- ----------------------- 20.2/50.1 MB 32.7 MB/s eta 0:00:01\n",
      "     ----------------- --------------------- 21.9/50.1 MB 32.7 MB/s eta 0:00:01\n",
      "     ------------------ -------------------- 23.5/50.1 MB 34.4 MB/s eta 0:00:01\n",
      "     ------------------- ------------------- 25.0/50.1 MB 36.4 MB/s eta 0:00:01\n",
      "     -------------------- ------------------ 26.1/50.1 MB 32.8 MB/s eta 0:00:01\n",
      "     --------------------- ----------------- 27.4/50.1 MB 31.2 MB/s eta 0:00:01\n",
      "     ---------------------- ---------------- 28.8/50.1 MB 31.2 MB/s eta 0:00:01\n",
      "     ----------------------- --------------- 29.9/50.1 MB 29.7 MB/s eta 0:00:01\n",
      "     ------------------------ -------------- 31.2/50.1 MB 29.8 MB/s eta 0:00:01\n",
      "     ------------------------- ------------- 32.5/50.1 MB 31.1 MB/s eta 0:00:01\n",
      "     -------------------------- ------------ 33.6/50.1 MB 29.8 MB/s eta 0:00:01\n",
      "     -------------------------- ------------ 34.3/50.1 MB 27.3 MB/s eta 0:00:01\n",
      "     --------------------------- ----------- 35.5/50.1 MB 27.3 MB/s eta 0:00:01\n",
      "     ---------------------------- ---------- 36.9/50.1 MB 27.3 MB/s eta 0:00:01\n",
      "     ------------------------------ -------- 38.6/50.1 MB 28.5 MB/s eta 0:00:01\n",
      "     ------------------------------ -------- 39.3/50.1 MB 27.3 MB/s eta 0:00:01\n",
      "     ------------------------------- ------- 41.1/50.1 MB 27.3 MB/s eta 0:00:01\n",
      "     -------------------------------- ------ 42.2/50.1 MB 26.2 MB/s eta 0:00:01\n",
      "     --------------------------------- ----- 43.5/50.1 MB 27.3 MB/s eta 0:00:01\n",
      "     ----------------------------------- --- 45.0/50.1 MB 29.8 MB/s eta 0:00:01\n",
      "     ----------------------------------- --- 46.0/50.1 MB 29.7 MB/s eta 0:00:01\n",
      "     ------------------------------------ -- 46.9/50.1 MB 29.7 MB/s eta 0:00:01\n",
      "     ------------------------------------- - 48.4/50.1 MB 29.7 MB/s eta 0:00:01\n",
      "     --------------------------------------  49.5/50.1 MB 28.4 MB/s eta 0:00:01\n",
      "     --------------------------------------  50.1/50.1 MB 29.7 MB/s eta 0:00:01\n",
      "     --------------------------------------- 50.1/50.1 MB 27.3 MB/s eta 0:00:00\n",
      "Downloading PyQt5-5.15.10-cp37-abi3-win_amd64.whl (6.8 MB)\n",
      "   ---------------------------------------- 0.0/6.8 MB ? eta -:--:--\n",
      "   --------- ------------------------------ 1.6/6.8 MB 50.2 MB/s eta 0:00:01\n",
      "   --------------- ------------------------ 2.7/6.8 MB 28.9 MB/s eta 0:00:01\n",
      "   ------------------------- -------------- 4.4/6.8 MB 31.4 MB/s eta 0:00:01\n",
      "   --------------------------------- ------ 5.7/6.8 MB 30.1 MB/s eta 0:00:01\n",
      "   ---------------------------------------- 6.8/6.8 MB 31.2 MB/s eta 0:00:00\n",
      "Downloading lxml-5.0.0-cp310-cp310-win_amd64.whl (3.9 MB)\n",
      "   ---------------------------------------- 0.0/3.9 MB ? eta -:--:--\n",
      "   ---------------- ----------------------- 1.6/3.9 MB 52.9 MB/s eta 0:00:01\n",
      "   --------------------------------- ------ 3.2/3.9 MB 41.4 MB/s eta 0:00:01\n",
      "   ---------------------------------------- 3.9/3.9 MB 35.4 MB/s eta 0:00:00\n",
      "Downloading PyQt5_sip-12.13.0-cp310-cp310-win_amd64.whl (78 kB)\n",
      "   ---------------------------------------- 0.0/78.5 kB ? eta -:--:--\n",
      "   ---------------------------------------- 78.5/78.5 kB 4.3 MB/s eta 0:00:00\n",
      "Installing collected packages: PyQt5-Qt5, PyQt5-sip, lxml, pyqt5\n",
      "Successfully installed PyQt5-Qt5-5.15.2 PyQt5-sip-12.13.0 lxml-5.0.0 pyqt5-5.15.10\n"
     ]
    }
   ],
   "source": [
    "!pip install --upgrade pyqt5 lxml"
   ]
  },
  {
   "cell_type": "code",
   "execution_count": 11,
   "metadata": {},
   "outputs": [],
   "source": [
    "LABELIMG_PATH = os.path.join('Tensorflow', 'labelimg')"
   ]
  },
  {
   "cell_type": "code",
   "execution_count": 14,
   "metadata": {},
   "outputs": [
    {
     "name": "stderr",
     "output_type": "stream",
     "text": [
      "Cloning into 'Tensorflow\\labelimg'...\n"
     ]
    }
   ],
   "source": [
    "if not os.path.exists(LABELIMG_PATH):\n",
    "    !mkdir {LABELIMG_PATH}\n",
    "    !git clone https://github.com/tzutalin/labelImg {LABELIMG_PATH}"
   ]
  },
  {
   "cell_type": "code",
   "execution_count": 15,
   "metadata": {},
   "outputs": [],
   "source": [
    "if os.name == 'posix':\n",
    "    !cd {LABELIMG_PATH} && !make qt5py3\n",
    "if os.name =='nt':\n",
    "    !cd {LABELIMG_PATH} && pyrcc5 -o libs/resources.py resources.qrc"
   ]
  },
  {
   "cell_type": "code",
   "execution_count": 15,
   "metadata": {},
   "outputs": [
    {
     "name": "stdout",
     "output_type": "stream",
     "text": [
      "Image:C:\\Users\\Matthew\\Documents\\Coding\\Object Dectection Python\\TFODCourse\\Tensorflow\\workspace\\images\\collectedimages\\Up\\Up.9ff57df8-ab3e-11ee-8204-d8bbc1d759fb.jpg -> Annotation:C:/Users/Matthew/Documents/Coding/Object Dectection Python/TFODCourse/Tensorflow/workspace/images/collectedimages/Up\\Up.9ff57df8-ab3e-11ee-8204-d8bbc1d759fb.xml\n",
      "Image:C:\\Users\\Matthew\\Documents\\Coding\\Object Dectection Python\\TFODCourse\\Tensorflow\\workspace\\images\\collectedimages\\Up\\Up.a12c242c-ab3e-11ee-80c7-d8bbc1d759fb.jpg -> Annotation:C:/Users/Matthew/Documents/Coding/Object Dectection Python/TFODCourse/Tensorflow/workspace/images/collectedimages/Up\\Up.a12c242c-ab3e-11ee-80c7-d8bbc1d759fb.xml\n",
      "Image:C:\\Users\\Matthew\\Documents\\Coding\\Object Dectection Python\\TFODCourse\\Tensorflow\\workspace\\images\\collectedimages\\Up\\Up.a2609443-ab3e-11ee-aab3-d8bbc1d759fb.jpg -> Annotation:C:/Users/Matthew/Documents/Coding/Object Dectection Python/TFODCourse/Tensorflow/workspace/images/collectedimages/Up\\Up.a2609443-ab3e-11ee-aab3-d8bbc1d759fb.xml\n",
      "Image:C:\\Users\\Matthew\\Documents\\Coding\\Object Dectection Python\\TFODCourse\\Tensorflow\\workspace\\images\\collectedimages\\Up\\Up.c3cfadc8-ab3d-11ee-ace7-d8bbc1d759fb.jpg -> Annotation:C:/Users/Matthew/Documents/Coding/Object Dectection Python/TFODCourse/Tensorflow/workspace/images/collectedimages/Up\\Up.c3cfadc8-ab3d-11ee-ace7-d8bbc1d759fb.xml\n",
      "Image:C:\\Users\\Matthew\\Documents\\Coding\\Object Dectection Python\\TFODCourse\\Tensorflow\\workspace\\images\\collectedimages\\Up\\Up.c63e50b8-ab3d-11ee-9631-d8bbc1d759fb.jpg -> Annotation:C:/Users/Matthew/Documents/Coding/Object Dectection Python/TFODCourse/Tensorflow/workspace/images/collectedimages/Up\\Up.c63e50b8-ab3d-11ee-9631-d8bbc1d759fb.xml\n",
      "Image:C:\\Users\\Matthew\\Documents\\Coding\\Object Dectection Python\\TFODCourse\\Tensorflow\\workspace\\images\\collectedimages\\Up\\Up.c506b108-ab3d-11ee-8ffb-d8bbc1d759fb.jpg -> Annotation:C:/Users/Matthew/Documents/Coding/Object Dectection Python/TFODCourse/Tensorflow/workspace/images/collectedimages/Up\\Up.c506b108-ab3d-11ee-8ffb-d8bbc1d759fb.xml\n"
     ]
    }
   ],
   "source": [
    "# opens the pyqt5 window and image label editor\n",
    "!cd {LABELIMG_PATH} && python labelImg.py"
   ]
  },
  {
   "cell_type": "markdown",
   "metadata": {},
   "source": [
    "# 6. Move them into a Training and Testing Partition"
   ]
  },
  {
   "cell_type": "markdown",
   "metadata": {},
   "source": [
    "# OPTIONAL - 7. Compress them for Colab Training"
   ]
  },
  {
   "cell_type": "code",
   "execution_count": 20,
   "metadata": {},
   "outputs": [],
   "source": [
    "TRAIN_PATH = os.path.join('Tensorflow', 'workspace', 'images', 'train')\n",
    "TEST_PATH = os.path.join('Tensorflow', 'workspace', 'images', 'test')\n",
    "ARCHIVE_PATH = os.path.join('Tensorflow', 'workspace', 'images', 'archive.tar.gz')"
   ]
  },
  {
   "cell_type": "code",
   "execution_count": 21,
   "metadata": {},
   "outputs": [],
   "source": [
    "!tar -czf {ARCHIVE_PATH} {TRAIN_PATH} {TEST_PATH}"
   ]
  },
  {
   "cell_type": "code",
   "execution_count": null,
   "metadata": {},
   "outputs": [],
   "source": []
  }
 ],
 "metadata": {
  "kernelspec": {
   "display_name": "tfod",
   "language": "python",
   "name": "tfod"
  },
  "language_info": {
   "codemirror_mode": {
    "name": "ipython",
    "version": 3
   },
   "file_extension": ".py",
   "mimetype": "text/x-python",
   "name": "python",
   "nbconvert_exporter": "python",
   "pygments_lexer": "ipython3",
   "version": "3.10.11"
  }
 },
 "nbformat": 4,
 "nbformat_minor": 2
}
